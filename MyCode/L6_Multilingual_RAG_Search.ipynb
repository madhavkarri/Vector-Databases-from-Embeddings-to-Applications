{
 "cells": [
  {
   "cell_type": "markdown",
   "id": "9bc9c89e-3174-40bd-9885-e12339b11691",
   "metadata": {},
   "source": [
    "# Applications"
   ]
  },
  {
   "cell_type": "code",
   "execution_count": 19,
   "id": "dfd47055-fe5e-4d2a-83e2-27ae8afdbdfc",
   "metadata": {
    "height": 47
   },
   "outputs": [],
   "source": [
    "def json_print(data):\n",
    "    print(json.dumps(data, indent=2))"
   ]
  },
  {
   "cell_type": "code",
   "execution_count": 20,
   "id": "8f840bfe-d592-414e-90ce-a04dfc3cd87e",
   "metadata": {
    "height": 317
   },
   "outputs": [
    {
     "data": {
      "text/plain": [
       "True"
      ]
     },
     "execution_count": 20,
     "metadata": {},
     "output_type": "execute_result"
    }
   ],
   "source": [
    "import weaviate, os, json\n",
    "import openai\n",
    "from dotenv import load_dotenv, find_dotenv\n",
    "_ = load_dotenv(find_dotenv()) # read local .env file\n",
    "\n",
    "auth_config = weaviate.auth.AuthApiKey(api_key=os.getenv(\"WEAVIATE_API_KEY\"))\n",
    "\n",
    "client = weaviate.Client(\n",
    "    url=os.getenv(\"WEAVIATE_API_URL\"),\n",
    "    auth_client_secret=auth_config,\n",
    "    additional_headers={\n",
    "        \"X-Cohere-Api-Key\": os.getenv(\"COHERE_API_KEY\"),\n",
    "        \"X-Cohere-BaseURL\": os.getenv(\"CO_API_URL\")\n",
    "    }\n",
    ")\n",
    "\n",
    "client.is_ready() #check if True"
   ]
  },
  {
   "cell_type": "markdown",
   "id": "7226230a-0070-4083-8d21-f2b0a7297ba4",
   "metadata": {},
   "source": [
    "### 2. How many vectors are stored in this database"
   ]
  },
  {
   "cell_type": "code",
   "execution_count": 21,
   "id": "c25dd1d9-004e-47bf-9e4d-dc0ed837ccac",
   "metadata": {
    "height": 45
   },
   "outputs": [],
   "source": [
    "# print(json.dumps(client.query.aggregate(\"Wikipedia\").with_meta_count().do(), indent=2))"
   ]
  },
  {
   "cell_type": "markdown",
   "id": "e25de586-0e84-4658-9acf-4d39a09755bb",
   "metadata": {},
   "source": [
    "### 3. Perform search over them to find concepts you are interested in!"
   ]
  },
  {
   "cell_type": "markdown",
   "id": "4cf5bf66",
   "metadata": {
    "height": 164
   },
   "source": [
    "```\n",
    "response = (client.query\n",
    "            .get(\"Wikipedia\",['text','title','url','views','lang'])\n",
    "            .with_near_text({\"concepts\": \"Vacation spots in california\"})\n",
    "            .with_limit(5)\n",
    "            .do()\n",
    "           )\n",
    "\n",
    "json_print(response)\n",
    "```"
   ]
  },
  {
   "cell_type": "markdown",
   "id": "1edfd1b1",
   "metadata": {
    "height": 249
   },
   "source": [
    "```\n",
    "response = (client.query\n",
    "            .get(\"Wikipedia\",['text','title','url','views','lang'])\n",
    "            .with_near_text({\"concepts\": \"Vacation spots in california\"})\n",
    "            .with_where({\n",
    "                \"path\" : ['lang'],\n",
    "                \"operator\" : \"Equal\",\n",
    "                \"valueString\":'en'\n",
    "            })\n",
    "            .with_limit(3)\n",
    "            .do()\n",
    "           )\n",
    "\n",
    "json_print(response)\n",
    "```"
   ]
  },
  {
   "cell_type": "code",
   "execution_count": 22,
   "id": "efc9d5cc-66e8-4650-8de0-331e899fb123",
   "metadata": {
    "height": 249
   },
   "outputs": [
    {
     "name": "stdout",
     "output_type": "stream",
     "text": [
      "{\n",
      "  \"data\": {\n",
      "    \"Get\": {\n",
      "      \"Wikipedia\": [\n",
      "        {\n",
      "          \"lang\": \"en\",\n",
      "          \"text\": \"Many locals and tourists frequent the Southern California coast for its beaches. Some of southern California's most popular beaches are Malibu, Laguna Beach, La Jolla, Manhattan Beach, and Hermosa Beach. Southern California is also known for its mountain resort communities, such as Big Bear Lake, Lake Arrowhead, and Wrightwood, and their ski resorts, like Bear Mountain, Snow Summit, Snow Valley Mountain Resort, and Mountain High. The inland desert city of Palm Springs is also popular.\",\n",
      "          \"title\": \"Southern California\",\n",
      "          \"url\": \"https://en.wikipedia.org/wiki?curid=62520\",\n",
      "          \"views\": 2000\n",
      "        },\n",
      "        {\n",
      "          \"lang\": \"en\",\n",
      "          \"text\": \"Malibu has been used as a location or setting for many films, television programs, fashion shoots and music videos.\",\n",
      "          \"title\": \"Malibu, California\",\n",
      "          \"url\": \"https://en.wikipedia.org/wiki?curid=107655\",\n",
      "          \"views\": 2000\n",
      "        },\n",
      "        {\n",
      "          \"lang\": \"en\",\n",
      "          \"text\": \"The coastlines of Mexico harbor many stretches of beaches that are frequented by sunbathers and other visitors. According to national law, the entirety of the coastlines are under federal ownership, that is, all beaches in the country are public. On the Yucat\\u00e1n peninsula, one of the most popular beach destinations is the resort town of Canc\\u00fan, especially among university students during spring break. Just offshore is the beach island of Isla Mujeres, and to the east is the Isla Holbox. To the south of Cancun is the coastal strip called Riviera Maya which includes the beach town of Playa del Carmen and the ecological parks of Xcaret and Xel-H\\u00e1. A day trip to the south of Canc\\u00fan is the historic port of Tulum. In addition to its beaches, the town of Tulum is notable for its cliff-side Mayan ruins. On the Pacific coast is the notable tourist destination of Acapulco. Once the destination for the rich and famous, the beaches have become crowded and the shores are now home to many multi-story hotels and vendors. Acapulco is home to renowned cliff divers: trained divers who leap from the side of a vertical cliff into the surf below. At the southern tip of the Baja California peninsula is the resort town of Cabo San Lucas, a town noted for its beaches and marlin fishing. Further north along the Sea of Cort\\u00e9s is the Bah\\u00eda de La Concepci\\u00f3n, another beach town known for its sports fishing. Closer to the United States border is the weekend draw of San Felipe, Baja California.\",\n",
      "          \"title\": \"Mexico\",\n",
      "          \"url\": \"https://en.wikipedia.org/wiki?curid=3966054\",\n",
      "          \"views\": 3000\n",
      "        }\n",
      "      ]\n",
      "    }\n",
      "  }\n",
      "}\n"
     ]
    }
   ],
   "source": [
    "response = (client.query\n",
    "            .get(\"Wikipedia\",['text','title','url','views','lang'])\n",
    "            .with_near_text({\"concepts\": \"Miejsca na wakacje w Kalifornii\"})\n",
    "            .with_where({\n",
    "                \"path\" : ['lang'],\n",
    "                \"operator\" : \"Equal\",\n",
    "                \"valueString\":'en'\n",
    "            })\n",
    "            .with_limit(3)\n",
    "            .do()\n",
    "           )\n",
    "\n",
    "json_print(response)"
   ]
  },
  {
   "cell_type": "code",
   "execution_count": 23,
   "id": "950cbd49",
   "metadata": {
    "height": 249
   },
   "outputs": [
    {
     "name": "stdout",
     "output_type": "stream",
     "text": [
      "{\n",
      "  \"data\": {\n",
      "    \"Get\": {\n",
      "      \"Wikipedia\": [\n",
      "        {\n",
      "          \"lang\": \"en\",\n",
      "          \"text\": \"Many locals and tourists frequent the Southern California coast for its beaches. Some of southern California's most popular beaches are Malibu, Laguna Beach, La Jolla, Manhattan Beach, and Hermosa Beach. Southern California is also known for its mountain resort communities, such as Big Bear Lake, Lake Arrowhead, and Wrightwood, and their ski resorts, like Bear Mountain, Snow Summit, Snow Valley Mountain Resort, and Mountain High. The inland desert city of Palm Springs is also popular.\",\n",
      "          \"title\": \"Southern California\",\n",
      "          \"url\": \"https://en.wikipedia.org/wiki?curid=62520\",\n",
      "          \"views\": 2000\n",
      "        },\n",
      "        {\n",
      "          \"lang\": \"en\",\n",
      "          \"text\": \"The park is located east of Webb Way, and between Civic Center Way on the north and PCH to the south. It was the site of the annual Labor Day Weekend Kiwanis Club Chili Cook-Off from 1982 to 2009 (in 2010, the Chili Cook-Off and Carnival went on as usual, but moved to still-open land across Civic Center Way, on the Ioki property, at the corner of Civic Center Way and Stuart Ranch Road). Further back, it was agricultural land, planted in geraniums, other flowers and vegetables by the Takahashi family since 1924.\",\n",
      "          \"title\": \"Malibu, California\",\n",
      "          \"url\": \"https://en.wikipedia.org/wiki?curid=107655\",\n",
      "          \"views\": 2000\n",
      "        },\n",
      "        {\n",
      "          \"lang\": \"en\",\n",
      "          \"text\": \"Often chosen as a winter training location for professional cycling teams and snowbirds, Santa Barbara has cycling routes and several climbs, including Gibraltar Road and Old San Marcos/Painted Cave. A bike path and route connects the University of California, Santa Barbara to the downtown area, passing through Goleta and Hope Ranch. Bike rentals are a way for tourists to view Santa Barbara and the surrounding area. In 2009, the Santa Barbara-Santa Maria-Goleta metropolitan statistical area (MSA) ranked as the sixth highest in the United States for percentage of commuters who biked to work (4 percent).\",\n",
      "          \"title\": \"Santa Barbara, California\",\n",
      "          \"url\": \"https://en.wikipedia.org/wiki?curid=108139\",\n",
      "          \"views\": 2000\n",
      "        }\n",
      "      ]\n",
      "    }\n",
      "  }\n",
      "}\n"
     ]
    }
   ],
   "source": [
    "response = (client.query\n",
    "            .get(\"Wikipedia\",['text','title','url','views','lang'])\n",
    "            .with_near_text({\"concepts\": \"أماكن العطلات في كاليفورنيا\"})\n",
    "            .with_where({\n",
    "                \"path\" : ['lang'],\n",
    "                \"operator\" : \"Equal\",\n",
    "                \"valueString\":'en'\n",
    "            })\n",
    "            .with_limit(3)\n",
    "            .do()\n",
    "           )\n",
    "\n",
    "json_print(response)"
   ]
  },
  {
   "cell_type": "markdown",
   "id": "1756b652-257d-4cca-95e3-f40870884113",
   "metadata": {},
   "source": [
    "## Retrieval Augmented Generation"
   ]
  },
  {
   "cell_type": "markdown",
   "id": "14074da1-1038-4fad-8241-1ba8db8200a2",
   "metadata": {},
   "source": [
    "### Single Prompt"
   ]
  },
  {
   "cell_type": "code",
   "execution_count": 24,
   "id": "4d40ce8d-a785-4f47-9497-5cc102ec4349",
   "metadata": {
    "height": 232
   },
   "outputs": [
    {
     "name": "stdout",
     "output_type": "stream",
     "text": [
      "{\n",
      "  \"data\": {\n",
      "    \"Get\": {\n",
      "      \"Wikipedia\": [\n",
      "        {\n",
      "          \"_additional\": {\n",
      "            \"generate\": {\n",
      "              \"error\": null,\n",
      "              \"singleResult\": \"Here is a potential Facebook ad: \\n\\n**Head to Southern California for Your Next Vacation!**\\n\\nAre you ready to escape the daily grind and experience the ultimate vacation? Look no further than the sunny shores of Southern California!\\n\\nImagine yourself strolling along the breathtaking coastline, with the warm ocean breeze caressing your hair. Southern California's beaches are renowned for their beauty and popularity, including Malibu, Laguna Beach, La Jolla, and Manhattan Beach. Whether you're soaking up the sun, surfing the waves, or enjoying a romantic beach walk, these beaches offer an unforgettable experience.\\n\\nBut Southern California is more than just its famous coast. Venture into the majestic mountain resort communities of Big Bear Lake and Lake Arrowhead, where you can ski down powdery slopes or enjoy the tranquil beauty of nature. For the thrill-seekers, Bear Mountain, Snow Summit, and Snow Valley Mountain Resort offer exhilarating ski experiences.\\n\\nAnd let's not forget the allure of the desert. The city of Palm Springs, with its unique blend of luxury and desert charm, provides a relaxing getaway. From golf courses to spa retreats, Palm Springs has something for everyone.\\n\\nSo, what are you waiting for? Pack your bags and embark on an unforgettable journey to Southern California. Create memories that will last a lifetime!\\n\\n[Book your Southern California getaway now!]\\n\\n#SoCalVibes #EscapeTheOrdinary #SunAndFun #MountainResorts #DesertChic #PalmSpringsParadise #SouthernCaliforniaDreaming\"\n",
      "            }\n",
      "          },\n",
      "          \"text\": \"Many locals and tourists frequent the Southern California coast for its beaches. Some of southern California's most popular beaches are Malibu, Laguna Beach, La Jolla, Manhattan Beach, and Hermosa Beach. Southern California is also known for its mountain resort communities, such as Big Bear Lake, Lake Arrowhead, and Wrightwood, and their ski resorts, like Bear Mountain, Snow Summit, Snow Valley Mountain Resort, and Mountain High. The inland desert city of Palm Springs is also popular.\",\n",
      "          \"title\": \"Southern California\"\n",
      "        },\n",
      "        {\n",
      "          \"_additional\": {\n",
      "            \"generate\": {\n",
      "              \"error\": null,\n",
      "              \"singleResult\": \"Discover Malibu, California: Where Beachfront Beauty Meets Coastal Charm\\n\\nImagine strolling along pristine white sand beaches, where the deep blue Pacific Ocean stretches before you and the majestic Santa Monica Mountains rise behind. Welcome to Malibu, California - a coastal paradise nestled along the Malibu Coast.\\n\\nFrom Carbon Beach to Encinal Bluffs, Malibu offers a diverse array of breathtaking beaches and scenic spots. Picture yourself surfing at the iconic Surfrider Beach, soaking up the sun at Westward Beach, or exploring the secluded coves of Escondido Beach and Paradise Cove.\\n\\nFor a truly magical experience, visit Point Dume. This picturesque headland forms the northern end of the Santa Monica Bay, providing stunning panoramic views of the Palos Verdes Peninsula and Santa Catalina Island. Below the park lies the hidden gem of Pirates Cove, a secluded beach once known for nude sunbathing, now a tranquil escape for those seeking a unique beach experience.\\n\\nWith its stunning natural beauty, Malibu offers an unparalleled beachfront lifestyle. Whether you're a sun-seeker, surfer, or nature enthusiast, you'll find your perfect coastal retreat here.\\n\\nDon't miss out on the chance to call Malibu your home or your next vacation destination. Discover the beauty, charm, and allure of Malibu, California - where beachfront paradise awaits your discovery.\\n\\nBook your escape to Malibu today and let the ocean breeze carry your worries away!\\n\\n#MalibuMagic #CoastalVibes #BeachfrontParadise #DiscoverMalibu #CaliforniaDreaming\"\n",
      "            }\n",
      "          },\n",
      "          \"text\": \"Carbon Beach, Surfrider Beach, Westward Beach, Escondido Beach, Paradise Cove, Point Dume, Pirates Cove, Zuma Beach, Trancas and Encinal Bluffs are places along the coast in Malibu. Point Dume forms the northern end of the Santa Monica Bay, and Point Dume Headlands Park affords a vista stretching to the Palos Verdes Peninsula and Santa Catalina Island. Directly below the park, on the western side of the point, is Pirates Cove. Because of its relative seclusion, Pirates Cove was previously used as a nude beach, but since nudity is now illegal on all beaches in Los Angeles County, nude sunbathers are subject to fines and/or arrest.\",\n",
      "          \"title\": \"Malibu, California\"\n",
      "        },\n",
      "        {\n",
      "          \"_additional\": {\n",
      "            \"generate\": {\n",
      "              \"error\": null,\n",
      "              \"singleResult\": \"Explorez la beaut\\u00e9 de la Californie ! De ses plages ensoleill\\u00e9es \\u00e0 ses parcs c\\u00f4tiers pittoresques, la Californie offre une exp\\u00e9rience inoubliable.\\n\\nPlongez dans les eaux cristallines de \\\"Trinidad State Beach\\\", admirez les vues spectaculaires de \\\"Torrey Pines State Reserve\\\" ou d\\u00e9couvrez l'histoire du \\\"Cabrillo National Monument\\\". Visitez les missions espagnoles remplies d'histoire, explorez le \\\"Donner Memorial State Park\\\" et voyagez dans le temps au \\\"Bodie Historic State Park\\\".\\n\\nD\\u00e9couvrez la majest\\u00e9 du parc national de Sequoia, avec ses s\\u00e9quoias g\\u00e9ants, et promenez-vous dans les sentiers du parc d'\\u00c9tat de Humboldt Redwoods, o\\u00f9 vous serez entour\\u00e9 de la beaut\\u00e9 de la nature.\\n\\nQu'attendez-vous ? R\\u00e9servez votre voyage en Californie d\\u00e8s aujourd'hui et cr\\u00e9ez des souvenirs inoubliables dans cet \\u00c9tat incroyable !\"\n",
      "            }\n",
      "          },\n",
      "          \"text\": \"Les plages et parcs c\\u00f4tiers principaux sont \\\"Trinidad State Beach\\\", \\\"Torrey Pines State Reserve\\\", le \\\"Cabrillo National Monument\\\". Les touristes se dirigent aussi vers les missions espagnoles, le \\\"Donner Memorial State Park\\\", le \\\"Bodie Historic State Park\\\", le parc national de Sequoia et le parc d'\\u00c9tat de Humboldt Redwoods.\",\n",
      "          \"title\": \"Californie\"\n",
      "        }\n",
      "      ]\n",
      "    }\n",
      "  }\n",
      "}\n"
     ]
    }
   ],
   "source": [
    "prompt = \"Write me a facebook ad about {title} using information inside {text}\"\n",
    "result = (\n",
    "  client.query\n",
    "  .get(\"Wikipedia\", [\"title\",\"text\"])\n",
    "  .with_generate(single_prompt=prompt)\n",
    "  .with_near_text({\n",
    "    \"concepts\": [\"Vacation spots in california\"]\n",
    "  })\n",
    "  .with_limit(3)\n",
    ").do()\n",
    "\n",
    "json_print(result)"
   ]
  },
  {
   "cell_type": "markdown",
   "id": "2b3a82f0-89e8-4ddb-8973-1bc84d3e10ee",
   "metadata": {},
   "source": [
    "### Group Task"
   ]
  },
  {
   "cell_type": "code",
   "execution_count": 25,
   "id": "06097742-ed4b-4a6f-94a3-3c85d2bbba0c",
   "metadata": {
    "height": 266
   },
   "outputs": [
    {
     "name": "stdout",
     "output_type": "stream",
     "text": [
      "{\n",
      "  \"data\": {\n",
      "    \"Get\": {\n",
      "      \"Wikipedia\": [\n",
      "        {\n",
      "          \"_additional\": {\n",
      "            \"generate\": {\n",
      "              \"error\": null,\n",
      "              \"groupedResult\": \"Southern California is a popular destination for locals and tourists alike, thanks to its diverse range of beaches, mountain resorts, and desert cities. Some of the most well-known beaches in the region include Malibu, Laguna Beach, La Jolla, Manhattan Beach, and Hermosa Beach. Southern California also boasts several mountain resort communities, such as Big Bear Lake and Lake Arrowhead, which are popular for skiing and other winter activities. For those seeking a desert escape, the inland city of Palm Springs is a popular choice.\\n\\nMalibu, a city in Southern California, is known for its stunning coastline and beaches. Carbon Beach, Surfrider Beach, and Zuma Beach are just a few of the many beaches that draw visitors to the area. Point Dume, a prominent landmark at the northern end of the Santa Monica Bay, offers breathtaking views of the Palos Verdes Peninsula and Santa Catalina Island. Below Point Dume is Pirates Cove, a secluded beach that was once popular for nude sunbathing but is now illegal due to county regulations. The California coast offers a variety of state beaches and parks, such as Trinidad State Beach, Torrey Pines State Reserve, and the Cabrillo National Monument, in addition to Spanish missions and state parks like Donner Memorial State Park and Bodie Historic State Park.\"\n",
      "            }\n",
      "          },\n",
      "          \"text\": \"Many locals and tourists frequent the Southern California coast for its beaches. Some of southern California's most popular beaches are Malibu, Laguna Beach, La Jolla, Manhattan Beach, and Hermosa Beach. Southern California is also known for its mountain resort communities, such as Big Bear Lake, Lake Arrowhead, and Wrightwood, and their ski resorts, like Bear Mountain, Snow Summit, Snow Valley Mountain Resort, and Mountain High. The inland desert city of Palm Springs is also popular.\",\n",
      "          \"title\": \"Southern California\"\n",
      "        },\n",
      "        {\n",
      "          \"_additional\": {\n",
      "            \"generate\": null\n",
      "          },\n",
      "          \"text\": \"Carbon Beach, Surfrider Beach, Westward Beach, Escondido Beach, Paradise Cove, Point Dume, Pirates Cove, Zuma Beach, Trancas and Encinal Bluffs are places along the coast in Malibu. Point Dume forms the northern end of the Santa Monica Bay, and Point Dume Headlands Park affords a vista stretching to the Palos Verdes Peninsula and Santa Catalina Island. Directly below the park, on the western side of the point, is Pirates Cove. Because of its relative seclusion, Pirates Cove was previously used as a nude beach, but since nudity is now illegal on all beaches in Los Angeles County, nude sunbathers are subject to fines and/or arrest.\",\n",
      "          \"title\": \"Malibu, California\"\n",
      "        },\n",
      "        {\n",
      "          \"_additional\": {\n",
      "            \"generate\": null\n",
      "          },\n",
      "          \"text\": \"Les plages et parcs c\\u00f4tiers principaux sont \\\"Trinidad State Beach\\\", \\\"Torrey Pines State Reserve\\\", le \\\"Cabrillo National Monument\\\". Les touristes se dirigent aussi vers les missions espagnoles, le \\\"Donner Memorial State Park\\\", le \\\"Bodie Historic State Park\\\", le parc national de Sequoia et le parc d'\\u00c9tat de Humboldt Redwoods.\",\n",
      "          \"title\": \"Californie\"\n",
      "        }\n",
      "      ]\n",
      "    }\n",
      "  }\n",
      "}\n"
     ]
    }
   ],
   "source": [
    "generate_prompt = \"Summarize what these posts are about in two paragraphs.\"\n",
    "\n",
    "result = (\n",
    "  client.query\n",
    "  .get(\"Wikipedia\", [\"title\",\"text\"])\n",
    "  .with_generate(grouped_task=generate_prompt) # Pass in all objects at once\n",
    "  .with_near_text({\n",
    "    \"concepts\": [\"Vacation spots in california\"]\n",
    "  })\n",
    "  .with_limit(3)\n",
    ").do()\n",
    "\n",
    "json_print(result)\n"
   ]
  },
  {
   "cell_type": "code",
   "execution_count": null,
   "id": "3529614d-8354-43be-87de-46bd9728781e",
   "metadata": {
    "height": 30
   },
   "outputs": [],
   "source": []
  }
 ],
 "metadata": {
  "kernelspec": {
   "display_name": "Python 3 (ipykernel)",
   "language": "python",
   "name": "python3"
  },
  "language_info": {
   "codemirror_mode": {
    "name": "ipython",
    "version": 3
   },
   "file_extension": ".py",
   "mimetype": "text/x-python",
   "name": "python",
   "nbconvert_exporter": "python",
   "pygments_lexer": "ipython3",
   "version": "3.9.18"
  }
 },
 "nbformat": 4,
 "nbformat_minor": 5
}
